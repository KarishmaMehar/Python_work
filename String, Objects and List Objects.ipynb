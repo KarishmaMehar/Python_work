{
 "cells": [
  {
   "cell_type": "code",
   "execution_count": 1,
   "id": "075d4338",
   "metadata": {},
   "outputs": [
    {
     "name": "stdout",
     "output_type": "stream",
     "text": [
      "enter size of a diamond : 15\n",
      "*\n",
      "**\n",
      "***\n",
      "****\n",
      "*****\n",
      "******\n",
      "*******\n",
      "********\n",
      "*******\n",
      "******\n",
      "*****\n",
      "****\n",
      "***\n",
      "**\n",
      "*\n"
     ]
    }
   ],
   "source": [
    "# Q1. Write a code to print half diamond using nested for loop in python.\n",
    "\n",
    "import math\n",
    "\n",
    "size = int(input(\"enter size of a diamond : \"))\n",
    "r = math.ceil(size/2)\n",
    "\n",
    "\n",
    "for i in range(1, size + 1) :\n",
    "    if i <= r :\n",
    "        for j in range(i) :\n",
    "            print(\"*\", end = \"\")\n",
    "    else : \n",
    "        for k in range(size - i + 1) :\n",
    "            print(\"*\", end = \"\")\n",
    "                 \n",
    "    print(\"\")    "
   ]
  },
  {
   "cell_type": "code",
   "execution_count": 2,
   "id": "a8f060ca",
   "metadata": {},
   "outputs": [
    {
     "name": "stdout",
     "output_type": "stream",
     "text": [
      "enter the word which you want to reverse : ineuron\n",
      "word after reversing : norueni\n"
     ]
    }
   ],
   "source": [
    "# Q2. Write a Python program to reverse a word after accepting the input from the user.\n",
    "\n",
    "word = input(\"enter the word which you want to reverse : \")\n",
    "rvrs_word = \"\"\n",
    "\n",
    "for i in range(1,len(word) + 1) :\n",
    "    rvrs_word = rvrs_word + word[-i]\n",
    "    \n",
    "print('word after reversing : {}'.format(rvrs_word))    "
   ]
  },
  {
   "cell_type": "code",
   "execution_count": null,
   "id": "9b7da976",
   "metadata": {},
   "outputs": [],
   "source": []
  }
 ],
 "metadata": {
  "kernelspec": {
   "display_name": "Python 3",
   "language": "python",
   "name": "python3"
  },
  "language_info": {
   "codemirror_mode": {
    "name": "ipython",
    "version": 3
   },
   "file_extension": ".py",
   "mimetype": "text/x-python",
   "name": "python",
   "nbconvert_exporter": "python",
   "pygments_lexer": "ipython3",
   "version": "3.8.8"
  }
 },
 "nbformat": 4,
 "nbformat_minor": 5
}
